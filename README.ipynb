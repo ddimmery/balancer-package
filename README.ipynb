{
 "cells": [
  {
   "cell_type": "markdown",
   "metadata": {},
   "source": [
    "# Balancing Walk Design\n",
    "\n",
    "[![Contributor Covenant](https://img.shields.io/badge/Contributor%20Covenant-2.1-4baaaa.svg)](code_of_conduct.md)\n",
    "[![deploy](https://github.com/ddimmery/balancer-package/actions/workflows/ci.yml/badge.svg)](https://github.com/ddimmery/balancer-package/actions/workflows/ci.yml)\n",
    "\n",
    "This package provides a reference implementation of the [Balancing Walk Design](https://arxiv.org/abs/2203.02025). It relies on minimal dependencies and is intended to be an easy way to plug in advanced experimental designs into existing systems with little overhead.\n",
    "\n",
    "More details on the design of the method on the [About page](about) and in the [paper](https://arxiv.org/abs/2203.02025). An [example of usage is below](#usage).\n",
    "\n",
    "## Installation\n",
    "\n",
    "(packages not yet available)\n",
    "\n",
    "With `pip`:\n",
    "\n",
    "```\n",
    "pip install balancer\n",
    "```\n",
    "\n",
    "With `conda`:\n",
    "```\n",
    "conda install -c conda-forge balancer\n",
    "```\n",
    "\n",
    "\n",
    "## Usage\n",
    "\n",
    "Eventually this will contain code examples and a simple demonstration of the method, like the following:"
   ]
  },
  {
   "cell_type": "code",
   "execution_count": 92,
   "metadata": {
    "vscode": {
     "languageId": "plaintext"
    }
   },
   "outputs": [],
   "source": [
    "from balancer import BWD\n",
    "from numpy.random import default_rng\n",
    "import numpy as np\n",
    "rng = default_rng(2022)\n",
    "\n",
    "n = 10000\n",
    "d = 5\n",
    "ate = 1\n",
    "beta = rng.normal(size = d)\n",
    "\n",
    "X = rng.normal(size = (n, d))\n",
    "\n",
    "balancer = BWD(N = n, D = d)\n",
    "A_bwd = []\n",
    "A_rand = []\n",
    "imbalance_bwd = np.array([[0] * d])\n",
    "imbalance_rand = np.array([[0] * d])\n",
    "\n",
    "increment_imbalance = lambda imba, a, x: np.concatenate([imba, imba[-1:, :] + (2 * a - 1) * x])\n",
    "\n",
    "for x in X:\n",
    "    # Assign with BWD\n",
    "    a_bwd = balancer.assign_next(np.concatenate([[1], x]))\n",
    "    imbalance_bwd = increment_imbalance(imbalance_bwd, a_bwd, x)\n",
    "    A_bwd.append(a_bwd)\n",
    "    # Assign with Bernoulli randomization\n",
    "    a_rand = rng.binomial(n = 1, p = 0.5, size = 1).item()\n",
    "    imbalance_rand = increment_imbalance(imbalance_rand, a_rand, x)\n",
    "    A_rand.append(a_rand)\n",
    "\n",
    "# Outcomes are only realized at the conclusion of the experiment\n",
    "eps = rng.normal(size=n)\n",
    "Y_bwd = X @ beta + A_bwd * ate + eps\n",
    "Y_rand = X @ beta + A_rand + ate + eps"
   ]
  },
  {
   "cell_type": "markdown",
   "metadata": {},
   "source": [
    "We can see how imbalance progresses as a function of time:"
   ]
  },
  {
   "cell_type": "code",
   "execution_count": null,
   "metadata": {
    "vscode": {
     "languageId": "plaintext"
    }
   },
   "outputs": [],
   "source": [
    "import seaborn as sns\n",
    "import pandas as pd\n",
    "\n",
    "norm_bwd = np.linalg.norm(imbalance_bwd, axis = 1).tolist()\n",
    "norm_rand = np.linalg.norm(imbalance_rand, axis = 1).tolist()\n",
    "\n",
    "sns.relplot(\n",
    "    x=list(range(n + 1)) * 2, y=norm_bwd + norm_rand,\n",
    "    hue = [\"BWD\"] * (n + 1) + [\"Random\"] * (n + 1),\n",
    "    kind=\"line\", height=5, aspect=2,\n",
    ").set_axis_labels(\"Iteration\", \"Imbalance\");"
   ]
  },
  {
   "cell_type": "markdown",
   "metadata": {},
   "source": [
    "It's clear from the above chart that using BWD keeps imbalance substantially more under control than standard methods of randomization.\n",
    "\n",
    "## Citation\n",
    "APA:\n",
    "> Arbour, D., Dimmery, D., Mai, T., & Rao, A. (2022). *Online Balanced Experimental Design*. arXiv preprint arXiv:2203.02025.\n",
    "\n",
    "BibTeX:\n",
    "```\n",
    "@misc{https://doi.org/10.48550/arxiv.2203.02025,\n",
    "  doi = {10.48550/ARXIV.2203.02025},\n",
    "  url = {https://arxiv.org/abs/2203.02025},\n",
    "  author = {Arbour, David and Dimmery, Drew and Mai, Tung and Rao, Anup},\n",
    "  keywords = {Methodology (stat.ME), FOS: Computer and information sciences, FOS: Computer and information sciences},\n",
    "  title = {Online Balanced Experimental Design},\n",
    "  publisher = {arXiv},\n",
    "  year = {2022},\n",
    "  copyright = {arXiv.org perpetual, non-exclusive license}\n",
    "}\n",
    "```"
   ]
  }
 ],
 "metadata": {
  "kernelspec": {
   "display_name": "online-balancing-design",
   "language": "python",
   "name": "online-balancing-design"
  },
  "language_info": {
   "codemirror_mode": {
    "name": "ipython",
    "version": 3
   },
   "file_extension": ".py",
   "mimetype": "text/x-python",
   "name": "python",
   "nbconvert_exporter": "python",
   "pygments_lexer": "ipython3",
   "version": "3.9.12"
  }
 },
 "nbformat": 4,
 "nbformat_minor": 2
}
